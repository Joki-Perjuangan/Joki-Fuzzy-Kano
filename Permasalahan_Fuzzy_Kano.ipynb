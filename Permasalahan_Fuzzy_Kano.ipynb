{
  "cells": [
    {
      "cell_type": "code",
      "execution_count": null,
      "metadata": {
        "id": "iMy2TNjyQCN4"
      },
      "outputs": [],
      "source": [
        "!pip install tensorflow numpy pandas scikit-learn\n",
        "!pip install fuzzy-c-means\n",
        "!pip install gensim\n",
        "!pip install gdown"
      ]
    },
    {
      "cell_type": "code",
      "execution_count": 47,
      "metadata": {
        "colab": {
          "base_uri": "https://localhost:8080/"
        },
        "id": "OvgUoy6GRvng",
        "outputId": "163ac838-3062-40b1-862b-3b246b71ced4"
      },
      "outputs": [
        {
          "output_type": "stream",
          "name": "stderr",
          "text": [
            "Downloading...\n",
            "From: https://drive.google.com/uc?id=1sC01fTnf-sEX8A8Pva8_BXhCEIATkvvS\n",
            "To: /content/dataset.csv\n",
            "100%|██████████| 2.59M/2.59M [00:00<00:00, 84.0MB/s]\n"
          ]
        }
      ],
      "source": [
        "import pandas as pd\n",
        "from sklearn.model_selection import train_test_split\n",
        "import gdown\n",
        "\n",
        "data_id = \"1sC01fTnf-sEX8A8Pva8_BXhCEIATkvvS\"\n",
        "url = f'https://drive.google.com/uc?id={data_id}'\n",
        "output = './dataset.csv'  # Replace with the desired file name\n",
        "gdown.download(url, output, quiet=False)\n",
        "\n",
        "data = pd.read_csv('dataset.csv')"
      ]
    },
    {
      "cell_type": "code",
      "execution_count": 48,
      "metadata": {
        "colab": {
          "base_uri": "https://localhost:8080/"
        },
        "id": "5yHsB_rxgsCE",
        "outputId": "167cef17-7dc0-4d24-97c3-279508cf9b8a"
      },
      "outputs": [
        {
          "output_type": "stream",
          "name": "stdout",
          "text": [
            "<class 'pandas.core.frame.DataFrame'>\n",
            "RangeIndex: 1597 entries, 0 to 1596\n",
            "Data columns (total 12 columns):\n",
            " #   Column             Non-Null Count  Dtype \n",
            "---  ------             --------------  ----- \n",
            " 0   Unnamed: 0         1597 non-null   int64 \n",
            " 1   userName           1597 non-null   object\n",
            " 2   score              1597 non-null   int64 \n",
            " 3   at                 1597 non-null   object\n",
            " 4   content            1597 non-null   object\n",
            " 5   casefolding        1597 non-null   object\n",
            " 6   cleaning           1597 non-null   object\n",
            " 7   Tokenize           1597 non-null   object\n",
            " 8   normalisasi        1597 non-null   object\n",
            " 9   stopwords removal  1597 non-null   object\n",
            " 10  stemming           1597 non-null   object\n",
            " 11  data_clean         1597 non-null   object\n",
            "dtypes: int64(2), object(10)\n",
            "memory usage: 149.8+ KB\n"
          ]
        }
      ],
      "source": [
        "data.info()"
      ]
    },
    {
      "cell_type": "code",
      "execution_count": 49,
      "metadata": {
        "colab": {
          "base_uri": "https://localhost:8080/"
        },
        "id": "Kllnh7zPg5mD",
        "outputId": "4604c3dc-ae07-4498-9f9b-a57b9ecc642d"
      },
      "outputs": [
        {
          "output_type": "execute_result",
          "data": {
            "text/plain": [
              "0       0\n",
              "1       2\n",
              "2       2\n",
              "3       1\n",
              "4       2\n",
              "       ..\n",
              "1592    4\n",
              "1593    0\n",
              "1594    4\n",
              "1595    3\n",
              "1596    0\n",
              "Name: score, Length: 1597, dtype: int64"
            ]
          },
          "metadata": {},
          "execution_count": 49
        }
      ],
      "source": [
        "data_sentiment = data[['score','data_clean']]\n",
        "data_sentiment.loc[:,'score'] = data_sentiment.loc[:,'score'] - 1\n",
        "data_sentiment['score']"
      ]
    },
    {
      "cell_type": "code",
      "execution_count": 50,
      "metadata": {
        "id": "m3rNA4DlgXF7"
      },
      "outputs": [],
      "source": [
        "train_data, test_data = train_test_split(data_sentiment, test_size=0.2, random_state=42)"
      ]
    },
    {
      "cell_type": "code",
      "execution_count": 51,
      "metadata": {
        "id": "aCYJk24ARxOn"
      },
      "outputs": [],
      "source": [
        "# preprocess sentiment data\n",
        "import tensorflow as tf\n",
        "from tensorflow.keras.preprocessing.text import Tokenizer\n",
        "from tensorflow.keras.preprocessing.sequence import pad_sequences\n",
        "\n",
        "# buld tokenier from train data\n",
        "tokenizer = Tokenizer(num_words=10000)\n",
        "tokenizer.fit_on_texts(train_data['data_clean'])\n",
        "\n",
        "# make sequence from the tokenizer\n",
        "train_sequences = tokenizer.texts_to_sequences(train_data['data_clean'])\n",
        "test_sequences = tokenizer.texts_to_sequences(test_data['data_clean'])\n",
        "\n",
        "# pad the sequence to max length\n",
        "max_length = 100\n",
        "train_padded = pad_sequences(train_sequences, maxlen=max_length, padding='post')\n",
        "test_padded = pad_sequences(test_sequences, maxlen=max_length, padding='post')\n"
      ]
    },
    {
      "cell_type": "code",
      "execution_count": null,
      "metadata": {
        "id": "UgC9Z_73SVXP"
      },
      "outputs": [],
      "source": [
        "from gensim import corpora, models\n",
        "import numpy as np\n",
        "\n",
        "# preprocess for lda model data\n",
        "texts = [text.split() for text in train_data['data_clean']]\n",
        "dictionary = corpora.Dictionary(texts)\n",
        "corpus = [dictionary.doc2bow(text) for text in texts]\n",
        "\n",
        "np.random.seed(42)\n",
        "\n",
        "# fit on lda model data\n",
        "lda_model = models.LdaModel(corpus, num_topics=5, id2word=dictionary, passes=15, random_state=42)\n"
      ]
    },
    {
      "cell_type": "code",
      "source": [
        "# inspect the lda model data\n",
        "topics = lda_model.print_topics(num_words=4)\n",
        "for topic in topics:\n",
        "    print(topic)"
      ],
      "metadata": {
        "colab": {
          "base_uri": "https://localhost:8080/"
        },
        "id": "VZphXp0WgSL7",
        "outputId": "f722e145-b947-41f3-9219-0ecdcb2888af"
      },
      "execution_count": 56,
      "outputs": [
        {
          "output_type": "stream",
          "name": "stdout",
          "text": [
            "(0, '0.030*\"ramah\" + 0.029*\"aplikasi\" + 0.025*\"maxim\" + 0.022*\"driver\"')\n",
            "(1, '0.039*\"driver\" + 0.018*\"maxim\" + 0.017*\"aplikasi\" + 0.015*\"pesan\"')\n",
            "(2, '0.036*\"maxim\" + 0.017*\"order\" + 0.017*\"driver\" + 0.014*\"map\"')\n",
            "(3, '0.026*\"titik\" + 0.025*\"driver\" + 0.024*\"maxim\" + 0.021*\"lokasi\"')\n",
            "(4, '0.028*\"maxim\" + 0.028*\"driver\" + 0.022*\"order\" + 0.022*\"gak\"')\n"
          ]
        }
      ]
    },
    {
      "cell_type": "code",
      "execution_count": 53,
      "metadata": {
        "id": "cxMLIAM3RzTf"
      },
      "outputs": [],
      "source": [
        "from tensorflow.keras.utils import to_categorical\n",
        "\n",
        "# one hot encode the sentiment analisys model\n",
        "train_labels = to_categorical(train_data['score'], num_classes=5)\n",
        "test_labels = to_categorical(test_data['score'], num_classes=5)\n",
        "\n",
        "# sentiment analisys model\n",
        "model = tf.keras.Sequential([\n",
        "    tf.keras.layers.Embedding(10000, 16, input_length=max_length),\n",
        "    tf.keras.layers.GlobalAveragePooling1D(),\n",
        "    tf.keras.layers.Dense(24, activation='relu',),\n",
        "    tf.keras.layers.Dropout(0.5),\n",
        "    tf.keras.layers.Dense(5, activation='softmax')\n",
        "])\n",
        "\n",
        "model.compile(optimizer='adam', loss='categorical_crossentropy', metrics=['accuracy'])\n"
      ]
    },
    {
      "cell_type": "code",
      "execution_count": 54,
      "metadata": {
        "colab": {
          "base_uri": "https://localhost:8080/"
        },
        "id": "5dJCPwpDi93N",
        "outputId": "dae781ce-e526-4c14-d209-daf6aa38373b"
      },
      "outputs": [
        {
          "output_type": "stream",
          "name": "stdout",
          "text": [
            "Epoch 1/100\n",
            "20/20 [==============================] - 1s 15ms/step - loss: 1.6019 - accuracy: 0.2529 - val_loss: 1.5878 - val_accuracy: 0.3344\n",
            "Epoch 2/100\n",
            "20/20 [==============================] - 0s 7ms/step - loss: 1.5791 - accuracy: 0.3164 - val_loss: 1.5621 - val_accuracy: 0.4938\n",
            "Epoch 3/100\n",
            "20/20 [==============================] - 0s 13ms/step - loss: 1.5553 - accuracy: 0.3485 - val_loss: 1.5364 - val_accuracy: 0.5531\n",
            "Epoch 4/100\n",
            "20/20 [==============================] - 0s 11ms/step - loss: 1.5365 - accuracy: 0.3461 - val_loss: 1.5125 - val_accuracy: 0.5000\n",
            "Epoch 5/100\n",
            "20/20 [==============================] - 0s 11ms/step - loss: 1.5179 - accuracy: 0.3430 - val_loss: 1.4945 - val_accuracy: 0.3187\n",
            "Epoch 6/100\n",
            "20/20 [==============================] - 0s 12ms/step - loss: 1.5028 - accuracy: 0.3312 - val_loss: 1.4830 - val_accuracy: 0.3187\n",
            "Epoch 7/100\n",
            "20/20 [==============================] - 1s 33ms/step - loss: 1.5009 - accuracy: 0.3352 - val_loss: 1.4764 - val_accuracy: 0.3406\n",
            "Epoch 8/100\n",
            "20/20 [==============================] - 0s 11ms/step - loss: 1.5051 - accuracy: 0.3367 - val_loss: 1.4725 - val_accuracy: 0.5562\n",
            "Epoch 9/100\n",
            "20/20 [==============================] - 0s 12ms/step - loss: 1.4859 - accuracy: 0.3587 - val_loss: 1.4697 - val_accuracy: 0.5469\n",
            "Epoch 10/100\n",
            "20/20 [==============================] - 1s 30ms/step - loss: 1.4899 - accuracy: 0.3821 - val_loss: 1.4661 - val_accuracy: 0.5594\n",
            "Epoch 11/100\n",
            "20/20 [==============================] - 0s 11ms/step - loss: 1.4901 - accuracy: 0.3782 - val_loss: 1.4614 - val_accuracy: 0.5625\n",
            "Epoch 12/100\n",
            "20/20 [==============================] - 0s 11ms/step - loss: 1.4766 - accuracy: 0.3962 - val_loss: 1.4581 - val_accuracy: 0.5594\n",
            "Epoch 13/100\n",
            "20/20 [==============================] - 0s 15ms/step - loss: 1.4789 - accuracy: 0.4096 - val_loss: 1.4518 - val_accuracy: 0.5469\n",
            "Epoch 14/100\n",
            "20/20 [==============================] - 0s 13ms/step - loss: 1.4644 - accuracy: 0.4307 - val_loss: 1.4445 - val_accuracy: 0.5500\n",
            "Epoch 15/100\n",
            "20/20 [==============================] - 0s 11ms/step - loss: 1.4610 - accuracy: 0.4323 - val_loss: 1.4373 - val_accuracy: 0.5656\n",
            "Epoch 16/100\n",
            "20/20 [==============================] - 0s 7ms/step - loss: 1.4475 - accuracy: 0.4503 - val_loss: 1.4280 - val_accuracy: 0.5562\n",
            "Epoch 17/100\n",
            "20/20 [==============================] - 0s 7ms/step - loss: 1.4335 - accuracy: 0.4792 - val_loss: 1.4168 - val_accuracy: 0.5688\n",
            "Epoch 18/100\n",
            "20/20 [==============================] - 0s 7ms/step - loss: 1.4220 - accuracy: 0.4824 - val_loss: 1.4037 - val_accuracy: 0.5562\n",
            "Epoch 19/100\n",
            "20/20 [==============================] - 0s 7ms/step - loss: 1.4047 - accuracy: 0.4933 - val_loss: 1.3858 - val_accuracy: 0.5750\n",
            "Epoch 20/100\n",
            "20/20 [==============================] - 0s 7ms/step - loss: 1.3827 - accuracy: 0.5161 - val_loss: 1.3717 - val_accuracy: 0.5719\n",
            "Epoch 21/100\n",
            "20/20 [==============================] - 0s 7ms/step - loss: 1.3675 - accuracy: 0.5168 - val_loss: 1.3547 - val_accuracy: 0.5719\n",
            "Epoch 22/100\n",
            "20/20 [==============================] - 0s 7ms/step - loss: 1.3499 - accuracy: 0.5145 - val_loss: 1.3382 - val_accuracy: 0.5781\n",
            "Epoch 23/100\n",
            "20/20 [==============================] - 0s 6ms/step - loss: 1.3328 - accuracy: 0.5231 - val_loss: 1.3237 - val_accuracy: 0.5656\n",
            "Epoch 24/100\n",
            "20/20 [==============================] - 0s 6ms/step - loss: 1.3148 - accuracy: 0.5161 - val_loss: 1.3094 - val_accuracy: 0.5781\n",
            "Epoch 25/100\n",
            "20/20 [==============================] - 0s 6ms/step - loss: 1.2948 - accuracy: 0.5348 - val_loss: 1.2933 - val_accuracy: 0.5844\n",
            "Epoch 26/100\n",
            "20/20 [==============================] - 0s 7ms/step - loss: 1.2799 - accuracy: 0.5372 - val_loss: 1.2787 - val_accuracy: 0.5656\n",
            "Epoch 27/100\n",
            "20/20 [==============================] - 0s 7ms/step - loss: 1.2622 - accuracy: 0.5489 - val_loss: 1.2644 - val_accuracy: 0.5813\n",
            "Epoch 28/100\n",
            "20/20 [==============================] - 0s 7ms/step - loss: 1.2448 - accuracy: 0.5576 - val_loss: 1.2500 - val_accuracy: 0.5813\n",
            "Epoch 29/100\n",
            "20/20 [==============================] - 0s 8ms/step - loss: 1.2224 - accuracy: 0.5787 - val_loss: 1.2408 - val_accuracy: 0.5875\n",
            "Epoch 30/100\n",
            "20/20 [==============================] - 0s 7ms/step - loss: 1.1963 - accuracy: 0.5670 - val_loss: 1.2250 - val_accuracy: 0.5813\n",
            "Epoch 31/100\n",
            "20/20 [==============================] - 0s 7ms/step - loss: 1.1675 - accuracy: 0.5701 - val_loss: 1.2102 - val_accuracy: 0.5813\n",
            "Epoch 32/100\n",
            "20/20 [==============================] - 0s 7ms/step - loss: 1.1650 - accuracy: 0.5740 - val_loss: 1.2023 - val_accuracy: 0.5719\n",
            "Epoch 33/100\n",
            "20/20 [==============================] - 0s 8ms/step - loss: 1.1461 - accuracy: 0.5818 - val_loss: 1.1918 - val_accuracy: 0.5688\n",
            "Epoch 34/100\n",
            "20/20 [==============================] - 0s 7ms/step - loss: 1.1187 - accuracy: 0.5928 - val_loss: 1.1796 - val_accuracy: 0.5750\n",
            "Epoch 35/100\n",
            "20/20 [==============================] - 0s 8ms/step - loss: 1.1160 - accuracy: 0.5959 - val_loss: 1.1693 - val_accuracy: 0.5750\n",
            "Epoch 36/100\n",
            "20/20 [==============================] - 0s 7ms/step - loss: 1.0857 - accuracy: 0.6147 - val_loss: 1.1639 - val_accuracy: 0.5688\n",
            "Epoch 37/100\n",
            "20/20 [==============================] - 0s 8ms/step - loss: 1.0759 - accuracy: 0.6022 - val_loss: 1.1553 - val_accuracy: 0.5781\n",
            "Epoch 38/100\n",
            "20/20 [==============================] - 0s 7ms/step - loss: 1.0460 - accuracy: 0.6273 - val_loss: 1.1470 - val_accuracy: 0.5719\n",
            "Epoch 39/100\n",
            "20/20 [==============================] - 0s 7ms/step - loss: 1.0306 - accuracy: 0.6273 - val_loss: 1.1417 - val_accuracy: 0.5844\n",
            "Epoch 40/100\n",
            "20/20 [==============================] - 0s 8ms/step - loss: 1.0311 - accuracy: 0.6304 - val_loss: 1.1371 - val_accuracy: 0.5781\n",
            "Epoch 41/100\n",
            "20/20 [==============================] - 0s 8ms/step - loss: 1.0223 - accuracy: 0.6312 - val_loss: 1.1367 - val_accuracy: 0.5906\n",
            "Epoch 42/100\n",
            "20/20 [==============================] - 0s 6ms/step - loss: 0.9989 - accuracy: 0.6335 - val_loss: 1.1325 - val_accuracy: 0.5938\n",
            "Epoch 43/100\n",
            "20/20 [==============================] - 0s 7ms/step - loss: 1.0029 - accuracy: 0.6421 - val_loss: 1.1259 - val_accuracy: 0.5844\n",
            "Epoch 44/100\n",
            "20/20 [==============================] - 0s 6ms/step - loss: 0.9597 - accuracy: 0.6437 - val_loss: 1.1250 - val_accuracy: 0.5875\n",
            "Epoch 45/100\n",
            "20/20 [==============================] - 0s 6ms/step - loss: 0.9445 - accuracy: 0.6648 - val_loss: 1.1212 - val_accuracy: 0.5906\n",
            "Epoch 46/100\n",
            "20/20 [==============================] - 0s 7ms/step - loss: 0.9459 - accuracy: 0.6562 - val_loss: 1.1188 - val_accuracy: 0.5844\n",
            "Epoch 47/100\n",
            "20/20 [==============================] - 0s 8ms/step - loss: 0.9243 - accuracy: 0.6554 - val_loss: 1.1166 - val_accuracy: 0.5875\n",
            "Epoch 48/100\n",
            "20/20 [==============================] - 0s 7ms/step - loss: 0.9286 - accuracy: 0.6594 - val_loss: 1.1157 - val_accuracy: 0.5875\n",
            "Epoch 49/100\n",
            "20/20 [==============================] - 0s 6ms/step - loss: 0.9132 - accuracy: 0.6633 - val_loss: 1.1164 - val_accuracy: 0.5781\n",
            "Epoch 50/100\n",
            "20/20 [==============================] - 0s 6ms/step - loss: 0.8963 - accuracy: 0.6656 - val_loss: 1.1170 - val_accuracy: 0.5688\n",
            "Epoch 51/100\n",
            "20/20 [==============================] - 0s 7ms/step - loss: 0.8940 - accuracy: 0.6695 - val_loss: 1.1163 - val_accuracy: 0.5688\n",
            "Epoch 52/100\n",
            "20/20 [==============================] - 0s 6ms/step - loss: 0.8617 - accuracy: 0.6836 - val_loss: 1.1172 - val_accuracy: 0.5813\n",
            "Epoch 53/100\n",
            "20/20 [==============================] - 0s 7ms/step - loss: 0.8628 - accuracy: 0.6821 - val_loss: 1.1198 - val_accuracy: 0.5719\n",
            "Epoch 54/100\n",
            "20/20 [==============================] - 0s 8ms/step - loss: 0.8424 - accuracy: 0.6946 - val_loss: 1.1187 - val_accuracy: 0.5688\n",
            "Epoch 55/100\n",
            "20/20 [==============================] - 0s 6ms/step - loss: 0.8269 - accuracy: 0.7016 - val_loss: 1.1211 - val_accuracy: 0.5719\n",
            "Epoch 56/100\n",
            "20/20 [==============================] - 0s 7ms/step - loss: 0.8276 - accuracy: 0.6946 - val_loss: 1.1263 - val_accuracy: 0.5625\n",
            "Epoch 57/100\n",
            "20/20 [==============================] - 0s 6ms/step - loss: 0.8106 - accuracy: 0.6946 - val_loss: 1.1229 - val_accuracy: 0.5656\n",
            "Epoch 58/100\n",
            "20/20 [==============================] - 0s 6ms/step - loss: 0.8100 - accuracy: 0.6993 - val_loss: 1.1230 - val_accuracy: 0.5656\n",
            "Epoch 59/100\n",
            "20/20 [==============================] - 0s 7ms/step - loss: 0.7994 - accuracy: 0.6985 - val_loss: 1.1254 - val_accuracy: 0.5719\n",
            "Epoch 60/100\n",
            "20/20 [==============================] - 0s 7ms/step - loss: 0.8103 - accuracy: 0.6962 - val_loss: 1.1391 - val_accuracy: 0.5437\n",
            "Epoch 61/100\n",
            "20/20 [==============================] - 0s 7ms/step - loss: 0.7845 - accuracy: 0.7087 - val_loss: 1.1349 - val_accuracy: 0.5688\n",
            "Epoch 62/100\n",
            "20/20 [==============================] - 0s 7ms/step - loss: 0.7633 - accuracy: 0.7204 - val_loss: 1.1374 - val_accuracy: 0.5656\n",
            "Epoch 63/100\n",
            "20/20 [==============================] - 0s 7ms/step - loss: 0.7671 - accuracy: 0.7283 - val_loss: 1.1445 - val_accuracy: 0.5469\n",
            "Epoch 64/100\n",
            "20/20 [==============================] - 0s 6ms/step - loss: 0.7572 - accuracy: 0.7189 - val_loss: 1.1451 - val_accuracy: 0.5656\n",
            "Epoch 65/100\n",
            "20/20 [==============================] - 0s 7ms/step - loss: 0.7520 - accuracy: 0.7189 - val_loss: 1.1511 - val_accuracy: 0.5469\n",
            "Epoch 66/100\n",
            "20/20 [==============================] - 0s 7ms/step - loss: 0.7282 - accuracy: 0.7400 - val_loss: 1.1524 - val_accuracy: 0.5469\n",
            "Epoch 67/100\n",
            "20/20 [==============================] - 0s 7ms/step - loss: 0.7321 - accuracy: 0.7392 - val_loss: 1.1585 - val_accuracy: 0.5469\n",
            "Epoch 68/100\n",
            "20/20 [==============================] - 0s 7ms/step - loss: 0.7244 - accuracy: 0.7361 - val_loss: 1.1680 - val_accuracy: 0.5344\n",
            "Epoch 69/100\n",
            "20/20 [==============================] - 0s 6ms/step - loss: 0.6873 - accuracy: 0.7565 - val_loss: 1.1748 - val_accuracy: 0.5469\n",
            "Epoch 70/100\n",
            "20/20 [==============================] - 0s 7ms/step - loss: 0.6951 - accuracy: 0.7447 - val_loss: 1.1758 - val_accuracy: 0.5531\n",
            "Epoch 71/100\n",
            "20/20 [==============================] - 0s 6ms/step - loss: 0.6857 - accuracy: 0.7510 - val_loss: 1.1860 - val_accuracy: 0.5250\n",
            "Epoch 72/100\n",
            "20/20 [==============================] - 0s 6ms/step - loss: 0.6660 - accuracy: 0.7541 - val_loss: 1.1850 - val_accuracy: 0.5437\n",
            "Epoch 73/100\n",
            "20/20 [==============================] - 0s 6ms/step - loss: 0.6686 - accuracy: 0.7494 - val_loss: 1.1891 - val_accuracy: 0.5437\n",
            "Epoch 74/100\n",
            "20/20 [==============================] - 0s 7ms/step - loss: 0.6348 - accuracy: 0.7760 - val_loss: 1.1992 - val_accuracy: 0.5437\n",
            "Epoch 75/100\n",
            "20/20 [==============================] - 0s 7ms/step - loss: 0.6300 - accuracy: 0.7549 - val_loss: 1.2078 - val_accuracy: 0.5344\n",
            "Epoch 76/100\n",
            "20/20 [==============================] - 0s 7ms/step - loss: 0.6288 - accuracy: 0.7698 - val_loss: 1.2154 - val_accuracy: 0.5344\n",
            "Epoch 77/100\n",
            "20/20 [==============================] - 0s 7ms/step - loss: 0.6214 - accuracy: 0.7839 - val_loss: 1.2241 - val_accuracy: 0.5281\n",
            "Epoch 78/100\n",
            "20/20 [==============================] - 0s 6ms/step - loss: 0.6141 - accuracy: 0.7745 - val_loss: 1.2301 - val_accuracy: 0.5312\n",
            "Epoch 79/100\n",
            "20/20 [==============================] - 0s 7ms/step - loss: 0.6039 - accuracy: 0.7784 - val_loss: 1.2397 - val_accuracy: 0.5375\n",
            "Epoch 80/100\n",
            "20/20 [==============================] - 0s 6ms/step - loss: 0.5932 - accuracy: 0.7831 - val_loss: 1.2461 - val_accuracy: 0.5281\n",
            "Epoch 81/100\n",
            "20/20 [==============================] - 0s 6ms/step - loss: 0.5901 - accuracy: 0.7870 - val_loss: 1.2542 - val_accuracy: 0.5375\n",
            "Epoch 82/100\n",
            "20/20 [==============================] - 0s 6ms/step - loss: 0.5831 - accuracy: 0.7776 - val_loss: 1.2659 - val_accuracy: 0.5375\n",
            "Epoch 83/100\n",
            "20/20 [==============================] - 0s 7ms/step - loss: 0.5789 - accuracy: 0.7917 - val_loss: 1.2733 - val_accuracy: 0.5344\n",
            "Epoch 84/100\n",
            "20/20 [==============================] - 0s 8ms/step - loss: 0.5847 - accuracy: 0.7800 - val_loss: 1.2774 - val_accuracy: 0.5344\n",
            "Epoch 85/100\n",
            "20/20 [==============================] - 0s 11ms/step - loss: 0.5581 - accuracy: 0.7987 - val_loss: 1.2845 - val_accuracy: 0.5375\n",
            "Epoch 86/100\n",
            "20/20 [==============================] - 0s 11ms/step - loss: 0.5735 - accuracy: 0.8034 - val_loss: 1.3019 - val_accuracy: 0.5250\n",
            "Epoch 87/100\n",
            "20/20 [==============================] - 0s 11ms/step - loss: 0.5561 - accuracy: 0.7909 - val_loss: 1.3233 - val_accuracy: 0.5250\n",
            "Epoch 88/100\n",
            "20/20 [==============================] - 0s 12ms/step - loss: 0.5377 - accuracy: 0.8128 - val_loss: 1.3147 - val_accuracy: 0.5375\n",
            "Epoch 89/100\n",
            "20/20 [==============================] - 0s 12ms/step - loss: 0.5311 - accuracy: 0.8058 - val_loss: 1.3261 - val_accuracy: 0.5375\n",
            "Epoch 90/100\n",
            "20/20 [==============================] - 0s 10ms/step - loss: 0.5557 - accuracy: 0.8058 - val_loss: 1.3416 - val_accuracy: 0.5250\n",
            "Epoch 91/100\n",
            "20/20 [==============================] - 0s 10ms/step - loss: 0.5166 - accuracy: 0.8277 - val_loss: 1.3377 - val_accuracy: 0.5406\n",
            "Epoch 92/100\n",
            "20/20 [==============================] - 0s 11ms/step - loss: 0.5151 - accuracy: 0.8066 - val_loss: 1.3595 - val_accuracy: 0.5281\n",
            "Epoch 93/100\n",
            "20/20 [==============================] - 0s 13ms/step - loss: 0.4974 - accuracy: 0.8175 - val_loss: 1.3630 - val_accuracy: 0.5375\n",
            "Epoch 94/100\n",
            "20/20 [==============================] - 0s 11ms/step - loss: 0.5014 - accuracy: 0.8309 - val_loss: 1.3835 - val_accuracy: 0.5250\n",
            "Epoch 95/100\n",
            "20/20 [==============================] - 0s 12ms/step - loss: 0.5098 - accuracy: 0.8285 - val_loss: 1.3808 - val_accuracy: 0.5344\n",
            "Epoch 96/100\n",
            "20/20 [==============================] - 0s 12ms/step - loss: 0.4907 - accuracy: 0.8332 - val_loss: 1.3991 - val_accuracy: 0.5344\n",
            "Epoch 97/100\n",
            "20/20 [==============================] - 0s 12ms/step - loss: 0.4996 - accuracy: 0.8285 - val_loss: 1.4140 - val_accuracy: 0.5312\n",
            "Epoch 98/100\n",
            "20/20 [==============================] - 0s 12ms/step - loss: 0.4751 - accuracy: 0.8340 - val_loss: 1.4026 - val_accuracy: 0.5344\n",
            "Epoch 99/100\n",
            "20/20 [==============================] - 0s 11ms/step - loss: 0.4754 - accuracy: 0.8434 - val_loss: 1.4283 - val_accuracy: 0.5250\n",
            "Epoch 100/100\n",
            "20/20 [==============================] - 0s 11ms/step - loss: 0.4763 - accuracy: 0.8363 - val_loss: 1.4272 - val_accuracy: 0.5344\n"
          ]
        },
        {
          "output_type": "execute_result",
          "data": {
            "text/plain": [
              "<keras.src.callbacks.History at 0x7e122a854280>"
            ]
          },
          "metadata": {},
          "execution_count": 54
        }
      ],
      "source": [
        "# fit on sentiment analisys model\n",
        "model.fit(train_padded, train_labels, batch_size=64, epochs=100, validation_data=(test_padded, test_labels))"
      ]
    },
    {
      "cell_type": "code",
      "source": [
        "# kano mapping based on lda model rules\n",
        "kano_mapping = {\n",
        "    0: 'attractive',  # Topic 0 interpreted as Attractive\n",
        "    1: 'one_dimensional',  # Topic 1 interpreted as One-dimensional\n",
        "    2: 'must_be',  # Topic 2 interpreted as Must-be\n",
        "    3: 'indifferent',  # Topic 3 interpreted as Indifferent\n",
        "    4: 'must_be'  # Topic 4 interpreted as Must-be\n",
        "}"
      ],
      "metadata": {
        "id": "rD0e4oVSg6P-"
      },
      "execution_count": 57,
      "outputs": []
    },
    {
      "cell_type": "code",
      "source": [
        "# evaluate text to get the kano model category\n",
        "def evaluate_kano(text):\n",
        "  # preprocess text\n",
        "    text_processed = text.split()\n",
        "    text_bow = dictionary.doc2bow(text_processed)\n",
        "\n",
        "    # get lda model topics and return the category\n",
        "    topic_distribution = lda_model.get_document_topics(text_bow)\n",
        "    highest_topic = max(topic_distribution, key=lambda x: x[1])[0]\n",
        "    kano_category = kano_mapping[highest_topic]\n",
        "\n",
        "    return kano_category\n",
        "\n",
        "# example use case\n",
        "text_input = \"driver maxim order ramah murah\"\n",
        "quality_rating = evaluate_kano(text_input)\n",
        "print(f\"Quality rating for the input: {quality_rating}\")"
      ],
      "metadata": {
        "colab": {
          "base_uri": "https://localhost:8080/"
        },
        "id": "oGrrqLjdcil0",
        "outputId": "94840bab-4d37-4dfb-8b62-01c6d28f17fb"
      },
      "execution_count": 58,
      "outputs": [
        {
          "output_type": "stream",
          "name": "stdout",
          "text": [
            "Quality rating for the input: must_be\n"
          ]
        }
      ]
    },
    {
      "cell_type": "code",
      "source": [
        "data['kano_category'] = data['data_clean'].apply(evaluate_kano)"
      ],
      "metadata": {
        "id": "WZr1Q6z2p40Z"
      },
      "execution_count": 59,
      "outputs": []
    },
    {
      "cell_type": "code",
      "source": [
        "# costumer mapping based kano category and sentiment score\n",
        "costumer_mapping = {\n",
        "    0: 'satisfied', # attractive high and one_dimensional high\n",
        "    1: 'delighted', # must_be high and one dimensional middle high\n",
        "    2: 'neutral', # indifferent medium high and one dimensioanl middle\n",
        "    3: 'dissatisfied', # attractive low and indifferente middle low one dimensional middle low\n",
        "    4: 'annoyed' # must be low and indifferent low and one dimensional low\n",
        "}"
      ],
      "metadata": {
        "id": "ZMGumK5VhGXZ"
      },
      "execution_count": 62,
      "outputs": []
    },
    {
      "cell_type": "code",
      "source": [
        "# costumer segmentasetion based on rules\n",
        "def costumer_segmentation(score, category):\n",
        "  if score >= 3 and category == 'attractive':\n",
        "    return costumer_mapping[0]\n",
        "  elif score == 5 and category == 'one_dimensional':\n",
        "    return costumer_mapping[0]\n",
        "  elif score >= 3 and category == 'must_be':\n",
        "    return costumer_mapping[1]\n",
        "  elif score == 4 and category == 'one_dimensional':\n",
        "    return costumer_mapping[1]\n",
        "  elif score >= 4 and category == 'indifferent':\n",
        "    return costumer_mapping[2]\n",
        "  elif score == 3 and category == 'one_dimensional':\n",
        "    return costumer_mapping[2]\n",
        "  elif score <= 2 and category == 'attractive':\n",
        "    return costumer_mapping[3]\n",
        "  elif category == 'indifferent' and score == 3 or score == 2:\n",
        "    return costumer_mapping[3]\n",
        "  elif score == 2 and category == 'one_dimensional':\n",
        "    return costumer_mapping[3]\n",
        "  elif score <= 2 and category == 'must_be':\n",
        "    return costumer_mapping[4]\n",
        "  elif score == 1 and category in ['one_dimensional','indifferent']:\n",
        "    return costumer_mapping[4]\n",
        "  else:\n",
        "    return 'Unknown'"
      ],
      "metadata": {
        "id": "3dCNwwkdlcgA"
      },
      "execution_count": 63,
      "outputs": []
    },
    {
      "cell_type": "code",
      "source": [
        "data['costumer_segment'] = data.apply(lambda row: costumer_segmentation(row['score'], row['kano_category']), axis=1)"
      ],
      "metadata": {
        "id": "GrlHTH2Mnwl1"
      },
      "execution_count": 64,
      "outputs": []
    },
    {
      "cell_type": "code",
      "source": [
        "data.to_csv('./dataset_segment.csv')"
      ],
      "metadata": {
        "id": "U30As3YOpikE"
      },
      "execution_count": 71,
      "outputs": []
    },
    {
      "cell_type": "code",
      "source": [
        "# encode costumer score based on it segmentation\n",
        "encode_customer = {\n",
        "    'satisfied': 0,\n",
        "    'delighted': 1,\n",
        "    'neutral': 2,\n",
        "    'dissatisfied': 3,\n",
        "    'annoyed': 4\n",
        "}\n",
        "\n",
        "def encode_sentiment(sentiment):\n",
        "    return encode_customer.get(sentiment, -1)"
      ],
      "metadata": {
        "id": "LDHxb5Ecq1J3"
      },
      "execution_count": 74,
      "outputs": []
    },
    {
      "cell_type": "code",
      "source": [
        "data['segment_score'] = data['costumer_segment'].apply(encode_sentiment)"
      ],
      "metadata": {
        "id": "cwvprVsereHe"
      },
      "execution_count": 75,
      "outputs": []
    },
    {
      "cell_type": "code",
      "source": [
        "# encode kano score based on it category\n",
        "encode_kano = {\n",
        "    'must_be': 0,\n",
        "    'attractive': 1,\n",
        "    'one_dimensional': 2,\n",
        "    'indifferent': 3,\n",
        "}\n",
        "\n",
        "def encode_kano_score(category):\n",
        "    return encode_kano.get(category, -1)"
      ],
      "metadata": {
        "id": "p-e5L9jUsoxz"
      },
      "execution_count": 81,
      "outputs": []
    },
    {
      "cell_type": "code",
      "source": [
        "data['kano_score'] = data['kano_category'].apply(encode_kano_score)"
      ],
      "metadata": {
        "id": "Pocg1btps_ly"
      },
      "execution_count": 82,
      "outputs": []
    },
    {
      "cell_type": "code",
      "source": [
        "column_select = ['content','score','kano_category','kano_score','costumer_segment','segment_score']\n",
        "data_selected = data[column_select]\n",
        "data_selected.head(10)"
      ],
      "metadata": {
        "colab": {
          "base_uri": "https://localhost:8080/",
          "height": 363
        },
        "id": "EVe58tyDtpJ_",
        "outputId": "3ce4fb02-f0d0-4aed-c41e-76caed56ea33"
      },
      "execution_count": 84,
      "outputs": [
        {
          "output_type": "execute_result",
          "data": {
            "text/plain": [
              "                                             content  score kano_category  \\\n",
              "0  Ada apa dengan Maxim. Padahal saya pesan Maxim...      1   indifferent   \n",
              "1  Awal awal itu baik maka saya suka beri bintang...      3       must_be   \n",
              "2  titik lokasi masih banyak yg tidak sesuai deng...      3   indifferent   \n",
              "3  Pencarian alamat masih kurang efektif,banyak a...      2   indifferent   \n",
              "4  Tolong diperbaiki sistem map nya, masa kalah s...      3   indifferent   \n",
              "5  Untuk yang lainnya tidak masalah ( saya penggu...      4   indifferent   \n",
              "6  susah, ribet, alamat tidak jelas, mau ketik.al...      2   indifferent   \n",
              "7  Sekarang pelayanan tidak pernah ontime , drive...      1   indifferent   \n",
              "8  Titik lokasinya tidak sesuai dengan lokasi pen...      1   indifferent   \n",
              "9  kenapa maxim di kota sidoarjo tidak bisa beker...      3       must_be   \n",
              "\n",
              "   kano_score costumer_segment  segment_score  \n",
              "0           3          annoyed              4  \n",
              "1           0        delighted              1  \n",
              "2           3     dissatisfied              3  \n",
              "3           3     dissatisfied              3  \n",
              "4           3     dissatisfied              3  \n",
              "5           3          neutral              2  \n",
              "6           3     dissatisfied              3  \n",
              "7           3          annoyed              4  \n",
              "8           3          annoyed              4  \n",
              "9           0        delighted              1  "
            ],
            "text/html": [
              "\n",
              "  <div id=\"df-ea144d8c-4e02-4410-be54-8efc3ecef797\" class=\"colab-df-container\">\n",
              "    <div>\n",
              "<style scoped>\n",
              "    .dataframe tbody tr th:only-of-type {\n",
              "        vertical-align: middle;\n",
              "    }\n",
              "\n",
              "    .dataframe tbody tr th {\n",
              "        vertical-align: top;\n",
              "    }\n",
              "\n",
              "    .dataframe thead th {\n",
              "        text-align: right;\n",
              "    }\n",
              "</style>\n",
              "<table border=\"1\" class=\"dataframe\">\n",
              "  <thead>\n",
              "    <tr style=\"text-align: right;\">\n",
              "      <th></th>\n",
              "      <th>content</th>\n",
              "      <th>score</th>\n",
              "      <th>kano_category</th>\n",
              "      <th>kano_score</th>\n",
              "      <th>costumer_segment</th>\n",
              "      <th>segment_score</th>\n",
              "    </tr>\n",
              "  </thead>\n",
              "  <tbody>\n",
              "    <tr>\n",
              "      <th>0</th>\n",
              "      <td>Ada apa dengan Maxim. Padahal saya pesan Maxim...</td>\n",
              "      <td>1</td>\n",
              "      <td>indifferent</td>\n",
              "      <td>3</td>\n",
              "      <td>annoyed</td>\n",
              "      <td>4</td>\n",
              "    </tr>\n",
              "    <tr>\n",
              "      <th>1</th>\n",
              "      <td>Awal awal itu baik maka saya suka beri bintang...</td>\n",
              "      <td>3</td>\n",
              "      <td>must_be</td>\n",
              "      <td>0</td>\n",
              "      <td>delighted</td>\n",
              "      <td>1</td>\n",
              "    </tr>\n",
              "    <tr>\n",
              "      <th>2</th>\n",
              "      <td>titik lokasi masih banyak yg tidak sesuai deng...</td>\n",
              "      <td>3</td>\n",
              "      <td>indifferent</td>\n",
              "      <td>3</td>\n",
              "      <td>dissatisfied</td>\n",
              "      <td>3</td>\n",
              "    </tr>\n",
              "    <tr>\n",
              "      <th>3</th>\n",
              "      <td>Pencarian alamat masih kurang efektif,banyak a...</td>\n",
              "      <td>2</td>\n",
              "      <td>indifferent</td>\n",
              "      <td>3</td>\n",
              "      <td>dissatisfied</td>\n",
              "      <td>3</td>\n",
              "    </tr>\n",
              "    <tr>\n",
              "      <th>4</th>\n",
              "      <td>Tolong diperbaiki sistem map nya, masa kalah s...</td>\n",
              "      <td>3</td>\n",
              "      <td>indifferent</td>\n",
              "      <td>3</td>\n",
              "      <td>dissatisfied</td>\n",
              "      <td>3</td>\n",
              "    </tr>\n",
              "    <tr>\n",
              "      <th>5</th>\n",
              "      <td>Untuk yang lainnya tidak masalah ( saya penggu...</td>\n",
              "      <td>4</td>\n",
              "      <td>indifferent</td>\n",
              "      <td>3</td>\n",
              "      <td>neutral</td>\n",
              "      <td>2</td>\n",
              "    </tr>\n",
              "    <tr>\n",
              "      <th>6</th>\n",
              "      <td>susah, ribet, alamat tidak jelas, mau ketik.al...</td>\n",
              "      <td>2</td>\n",
              "      <td>indifferent</td>\n",
              "      <td>3</td>\n",
              "      <td>dissatisfied</td>\n",
              "      <td>3</td>\n",
              "    </tr>\n",
              "    <tr>\n",
              "      <th>7</th>\n",
              "      <td>Sekarang pelayanan tidak pernah ontime , drive...</td>\n",
              "      <td>1</td>\n",
              "      <td>indifferent</td>\n",
              "      <td>3</td>\n",
              "      <td>annoyed</td>\n",
              "      <td>4</td>\n",
              "    </tr>\n",
              "    <tr>\n",
              "      <th>8</th>\n",
              "      <td>Titik lokasinya tidak sesuai dengan lokasi pen...</td>\n",
              "      <td>1</td>\n",
              "      <td>indifferent</td>\n",
              "      <td>3</td>\n",
              "      <td>annoyed</td>\n",
              "      <td>4</td>\n",
              "    </tr>\n",
              "    <tr>\n",
              "      <th>9</th>\n",
              "      <td>kenapa maxim di kota sidoarjo tidak bisa beker...</td>\n",
              "      <td>3</td>\n",
              "      <td>must_be</td>\n",
              "      <td>0</td>\n",
              "      <td>delighted</td>\n",
              "      <td>1</td>\n",
              "    </tr>\n",
              "  </tbody>\n",
              "</table>\n",
              "</div>\n",
              "    <div class=\"colab-df-buttons\">\n",
              "\n",
              "  <div class=\"colab-df-container\">\n",
              "    <button class=\"colab-df-convert\" onclick=\"convertToInteractive('df-ea144d8c-4e02-4410-be54-8efc3ecef797')\"\n",
              "            title=\"Convert this dataframe to an interactive table.\"\n",
              "            style=\"display:none;\">\n",
              "\n",
              "  <svg xmlns=\"http://www.w3.org/2000/svg\" height=\"24px\" viewBox=\"0 -960 960 960\">\n",
              "    <path d=\"M120-120v-720h720v720H120Zm60-500h600v-160H180v160Zm220 220h160v-160H400v160Zm0 220h160v-160H400v160ZM180-400h160v-160H180v160Zm440 0h160v-160H620v160ZM180-180h160v-160H180v160Zm440 0h160v-160H620v160Z\"/>\n",
              "  </svg>\n",
              "    </button>\n",
              "\n",
              "  <style>\n",
              "    .colab-df-container {\n",
              "      display:flex;\n",
              "      gap: 12px;\n",
              "    }\n",
              "\n",
              "    .colab-df-convert {\n",
              "      background-color: #E8F0FE;\n",
              "      border: none;\n",
              "      border-radius: 50%;\n",
              "      cursor: pointer;\n",
              "      display: none;\n",
              "      fill: #1967D2;\n",
              "      height: 32px;\n",
              "      padding: 0 0 0 0;\n",
              "      width: 32px;\n",
              "    }\n",
              "\n",
              "    .colab-df-convert:hover {\n",
              "      background-color: #E2EBFA;\n",
              "      box-shadow: 0px 1px 2px rgba(60, 64, 67, 0.3), 0px 1px 3px 1px rgba(60, 64, 67, 0.15);\n",
              "      fill: #174EA6;\n",
              "    }\n",
              "\n",
              "    .colab-df-buttons div {\n",
              "      margin-bottom: 4px;\n",
              "    }\n",
              "\n",
              "    [theme=dark] .colab-df-convert {\n",
              "      background-color: #3B4455;\n",
              "      fill: #D2E3FC;\n",
              "    }\n",
              "\n",
              "    [theme=dark] .colab-df-convert:hover {\n",
              "      background-color: #434B5C;\n",
              "      box-shadow: 0px 1px 3px 1px rgba(0, 0, 0, 0.15);\n",
              "      filter: drop-shadow(0px 1px 2px rgba(0, 0, 0, 0.3));\n",
              "      fill: #FFFFFF;\n",
              "    }\n",
              "  </style>\n",
              "\n",
              "    <script>\n",
              "      const buttonEl =\n",
              "        document.querySelector('#df-ea144d8c-4e02-4410-be54-8efc3ecef797 button.colab-df-convert');\n",
              "      buttonEl.style.display =\n",
              "        google.colab.kernel.accessAllowed ? 'block' : 'none';\n",
              "\n",
              "      async function convertToInteractive(key) {\n",
              "        const element = document.querySelector('#df-ea144d8c-4e02-4410-be54-8efc3ecef797');\n",
              "        const dataTable =\n",
              "          await google.colab.kernel.invokeFunction('convertToInteractive',\n",
              "                                                    [key], {});\n",
              "        if (!dataTable) return;\n",
              "\n",
              "        const docLinkHtml = 'Like what you see? Visit the ' +\n",
              "          '<a target=\"_blank\" href=https://colab.research.google.com/notebooks/data_table.ipynb>data table notebook</a>'\n",
              "          + ' to learn more about interactive tables.';\n",
              "        element.innerHTML = '';\n",
              "        dataTable['output_type'] = 'display_data';\n",
              "        await google.colab.output.renderOutput(dataTable, element);\n",
              "        const docLink = document.createElement('div');\n",
              "        docLink.innerHTML = docLinkHtml;\n",
              "        element.appendChild(docLink);\n",
              "      }\n",
              "    </script>\n",
              "  </div>\n",
              "\n",
              "\n",
              "<div id=\"df-f3b505ef-11a6-4333-aa35-5820b92245c8\">\n",
              "  <button class=\"colab-df-quickchart\" onclick=\"quickchart('df-f3b505ef-11a6-4333-aa35-5820b92245c8')\"\n",
              "            title=\"Suggest charts\"\n",
              "            style=\"display:none;\">\n",
              "\n",
              "<svg xmlns=\"http://www.w3.org/2000/svg\" height=\"24px\"viewBox=\"0 0 24 24\"\n",
              "     width=\"24px\">\n",
              "    <g>\n",
              "        <path d=\"M19 3H5c-1.1 0-2 .9-2 2v14c0 1.1.9 2 2 2h14c1.1 0 2-.9 2-2V5c0-1.1-.9-2-2-2zM9 17H7v-7h2v7zm4 0h-2V7h2v10zm4 0h-2v-4h2v4z\"/>\n",
              "    </g>\n",
              "</svg>\n",
              "  </button>\n",
              "\n",
              "<style>\n",
              "  .colab-df-quickchart {\n",
              "      --bg-color: #E8F0FE;\n",
              "      --fill-color: #1967D2;\n",
              "      --hover-bg-color: #E2EBFA;\n",
              "      --hover-fill-color: #174EA6;\n",
              "      --disabled-fill-color: #AAA;\n",
              "      --disabled-bg-color: #DDD;\n",
              "  }\n",
              "\n",
              "  [theme=dark] .colab-df-quickchart {\n",
              "      --bg-color: #3B4455;\n",
              "      --fill-color: #D2E3FC;\n",
              "      --hover-bg-color: #434B5C;\n",
              "      --hover-fill-color: #FFFFFF;\n",
              "      --disabled-bg-color: #3B4455;\n",
              "      --disabled-fill-color: #666;\n",
              "  }\n",
              "\n",
              "  .colab-df-quickchart {\n",
              "    background-color: var(--bg-color);\n",
              "    border: none;\n",
              "    border-radius: 50%;\n",
              "    cursor: pointer;\n",
              "    display: none;\n",
              "    fill: var(--fill-color);\n",
              "    height: 32px;\n",
              "    padding: 0;\n",
              "    width: 32px;\n",
              "  }\n",
              "\n",
              "  .colab-df-quickchart:hover {\n",
              "    background-color: var(--hover-bg-color);\n",
              "    box-shadow: 0 1px 2px rgba(60, 64, 67, 0.3), 0 1px 3px 1px rgba(60, 64, 67, 0.15);\n",
              "    fill: var(--button-hover-fill-color);\n",
              "  }\n",
              "\n",
              "  .colab-df-quickchart-complete:disabled,\n",
              "  .colab-df-quickchart-complete:disabled:hover {\n",
              "    background-color: var(--disabled-bg-color);\n",
              "    fill: var(--disabled-fill-color);\n",
              "    box-shadow: none;\n",
              "  }\n",
              "\n",
              "  .colab-df-spinner {\n",
              "    border: 2px solid var(--fill-color);\n",
              "    border-color: transparent;\n",
              "    border-bottom-color: var(--fill-color);\n",
              "    animation:\n",
              "      spin 1s steps(1) infinite;\n",
              "  }\n",
              "\n",
              "  @keyframes spin {\n",
              "    0% {\n",
              "      border-color: transparent;\n",
              "      border-bottom-color: var(--fill-color);\n",
              "      border-left-color: var(--fill-color);\n",
              "    }\n",
              "    20% {\n",
              "      border-color: transparent;\n",
              "      border-left-color: var(--fill-color);\n",
              "      border-top-color: var(--fill-color);\n",
              "    }\n",
              "    30% {\n",
              "      border-color: transparent;\n",
              "      border-left-color: var(--fill-color);\n",
              "      border-top-color: var(--fill-color);\n",
              "      border-right-color: var(--fill-color);\n",
              "    }\n",
              "    40% {\n",
              "      border-color: transparent;\n",
              "      border-right-color: var(--fill-color);\n",
              "      border-top-color: var(--fill-color);\n",
              "    }\n",
              "    60% {\n",
              "      border-color: transparent;\n",
              "      border-right-color: var(--fill-color);\n",
              "    }\n",
              "    80% {\n",
              "      border-color: transparent;\n",
              "      border-right-color: var(--fill-color);\n",
              "      border-bottom-color: var(--fill-color);\n",
              "    }\n",
              "    90% {\n",
              "      border-color: transparent;\n",
              "      border-bottom-color: var(--fill-color);\n",
              "    }\n",
              "  }\n",
              "</style>\n",
              "\n",
              "  <script>\n",
              "    async function quickchart(key) {\n",
              "      const quickchartButtonEl =\n",
              "        document.querySelector('#' + key + ' button');\n",
              "      quickchartButtonEl.disabled = true;  // To prevent multiple clicks.\n",
              "      quickchartButtonEl.classList.add('colab-df-spinner');\n",
              "      try {\n",
              "        const charts = await google.colab.kernel.invokeFunction(\n",
              "            'suggestCharts', [key], {});\n",
              "      } catch (error) {\n",
              "        console.error('Error during call to suggestCharts:', error);\n",
              "      }\n",
              "      quickchartButtonEl.classList.remove('colab-df-spinner');\n",
              "      quickchartButtonEl.classList.add('colab-df-quickchart-complete');\n",
              "    }\n",
              "    (() => {\n",
              "      let quickchartButtonEl =\n",
              "        document.querySelector('#df-f3b505ef-11a6-4333-aa35-5820b92245c8 button');\n",
              "      quickchartButtonEl.style.display =\n",
              "        google.colab.kernel.accessAllowed ? 'block' : 'none';\n",
              "    })();\n",
              "  </script>\n",
              "</div>\n",
              "    </div>\n",
              "  </div>\n"
            ],
            "application/vnd.google.colaboratory.intrinsic+json": {
              "type": "dataframe",
              "variable_name": "data_selected",
              "summary": "{\n  \"name\": \"data_selected\",\n  \"rows\": 1597,\n  \"fields\": [\n    {\n      \"column\": \"content\",\n      \"properties\": {\n        \"dtype\": \"string\",\n        \"num_unique_values\": 1583,\n        \"samples\": [\n          \"perlu ditingkatkan lebih baik lagi. soalnya tidak ada list warung atau tempat makan yang tercantum, jadi mesti kita pilih secara manual melalui maps (ini bisa tdk 100% akurat dan tidak semua tempat tercantum dalam app maps) kemudian agak ribet karena driver tidak mau menalangi dulu dana pembelian makanan, apabila kita hanya menyiapkan uang cash atau tidak memiliki saldo untuk transfer ini agak merepotkan\",\n          \"untuk aplikasi map nya perlu lebih detail lagi alamatnya, juga detail gambar perlu perjelas agar pelanggan tidak binggung saat memilih titik lokasinya\",\n          \"Kurirnya sangat ramah dan cara kerjanya sangat profesional. Kurirnya datang tepat waktu dan sampai ketujuan dengan aman Saya berikan nilai ke kurirnya: Akreditasi A, Sangat Memuaskan Nilai 98 dari 100 Terima kasih dan selamat bekerja\"\n        ],\n        \"semantic_type\": \"\",\n        \"description\": \"\"\n      }\n    },\n    {\n      \"column\": \"score\",\n      \"properties\": {\n        \"dtype\": \"number\",\n        \"std\": 1,\n        \"min\": 1,\n        \"max\": 5,\n        \"num_unique_values\": 5,\n        \"samples\": [\n          3,\n          5,\n          2\n        ],\n        \"semantic_type\": \"\",\n        \"description\": \"\"\n      }\n    },\n    {\n      \"column\": \"kano_category\",\n      \"properties\": {\n        \"dtype\": \"category\",\n        \"num_unique_values\": 4,\n        \"samples\": [\n          \"must_be\",\n          \"attractive\",\n          \"indifferent\"\n        ],\n        \"semantic_type\": \"\",\n        \"description\": \"\"\n      }\n    },\n    {\n      \"column\": \"kano_score\",\n      \"properties\": {\n        \"dtype\": \"number\",\n        \"std\": 1,\n        \"min\": 0,\n        \"max\": 3,\n        \"num_unique_values\": 4,\n        \"samples\": [\n          0,\n          1,\n          3\n        ],\n        \"semantic_type\": \"\",\n        \"description\": \"\"\n      }\n    },\n    {\n      \"column\": \"costumer_segment\",\n      \"properties\": {\n        \"dtype\": \"category\",\n        \"num_unique_values\": 5,\n        \"samples\": [\n          \"delighted\",\n          \"satisfied\",\n          \"dissatisfied\"\n        ],\n        \"semantic_type\": \"\",\n        \"description\": \"\"\n      }\n    },\n    {\n      \"column\": \"segment_score\",\n      \"properties\": {\n        \"dtype\": \"number\",\n        \"std\": 1,\n        \"min\": 0,\n        \"max\": 4,\n        \"num_unique_values\": 5,\n        \"samples\": [\n          1,\n          0,\n          3\n        ],\n        \"semantic_type\": \"\",\n        \"description\": \"\"\n      }\n    }\n  ]\n}"
            }
          },
          "metadata": {},
          "execution_count": 84
        }
      ]
    },
    {
      "cell_type": "code",
      "source": [
        "import pandas as pd\n",
        "import numpy as np\n",
        "import matplotlib.pyplot as plt\n",
        "\n",
        "def add_noise(x):\n",
        "    noise = np.random.uniform(-0.5, 0.5)\n",
        "    return x + noise\n",
        "\n",
        "# apply noise\n",
        "data['kano_score_noisy'] = data['kano_score'].apply(add_noise)\n",
        "data['score_noisy'] = data['score'].apply(add_noise)\n",
        "\n",
        "plt.figure(figsize=(10, 6))\n",
        "\n",
        "colors = {0: 'black', 1: 'blue', 2: 'green', 3: 'orange', 4: 'red'}\n",
        "\n",
        "# plot the graph\n",
        "for segment_score in data['segment_score'].unique():\n",
        "    subset = data[data['segment_score'] == segment_score]\n",
        "    plt.scatter(subset['kano_score_noisy'], subset['score_noisy'], label=f'Segment Score {segment_score}', color=colors[segment_score])\n",
        "\n",
        "plt.xlabel('Kano Score (with noise)')\n",
        "plt.ylabel('Score (with noise)')\n",
        "plt.title('Scatter Plot of Kano Score vs. Score with Noise')\n",
        "plt.legend()\n",
        "plt.grid(True)\n",
        "\n",
        "plt.show()"
      ],
      "metadata": {
        "colab": {
          "base_uri": "https://localhost:8080/",
          "height": 564
        },
        "id": "TnatO7nRr3EP",
        "outputId": "93c90c05-9a1d-4164-b34c-8e61ead9a2e3"
      },
      "execution_count": 86,
      "outputs": [
        {
          "output_type": "display_data",
          "data": {
            "text/plain": [
              "<Figure size 1000x600 with 1 Axes>"
            ],
            "image/png": "[encoded data removed]"
          },
          "metadata": {}
        }
      ]
    }
  ],
  "metadata": {
    "colab": {
      "provenance": []
    },
    "kernelspec": {
      "display_name": "Python 3",
      "name": "python3"
    },
    "language_info": {
      "name": "python"
    }
  },
  "nbformat": 4,
  "nbformat_minor": 0
}